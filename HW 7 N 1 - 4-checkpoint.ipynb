{
 "cells": [
  {
   "cell_type": "code",
   "execution_count": null,
   "id": "f60c03bc",
   "metadata": {},
   "outputs": [],
   "source": [
    "# Задача 1. Выберете тест и проверьте, есть ли различия между двумя независимыми выборками. Не соблюдается условие нормальности.\n",
    "# x1: 380,420, 290\n",
    "# y1: 140,360,200,900\n",
    "# Сделайте вывод по результатам, полученным с помощью функции."
   ]
  },
  {
   "cell_type": "code",
   "execution_count": 12,
   "id": "73d4caa8",
   "metadata": {},
   "outputs": [],
   "source": [
    "import scipy.stats as stats\n",
    "group_1 = np.array([380,420, 290])\n",
    "group_2 = np.array([140,360,200,900])"
   ]
  },
  {
   "cell_type": "code",
   "execution_count": 13,
   "id": "a2c39ba6",
   "metadata": {},
   "outputs": [
    {
     "data": {
      "text/plain": [
       "MannwhitneyuResult(statistic=8.0, pvalue=0.6285714285714286)"
      ]
     },
     "execution_count": 13,
     "metadata": {},
     "output_type": "execute_result"
    }
   ],
   "source": [
    "stats.mannwhitneyu(group_1, group_2)"
   ]
  },
  {
   "cell_type": "code",
   "execution_count": null,
   "id": "1bc7093e",
   "metadata": {},
   "outputs": [],
   "source": [
    "# Вывод: pvalue = 0,63, нет статистически значимых различий."
   ]
  },
  {
   "cell_type": "code",
   "execution_count": null,
   "id": "14e11a1d",
   "metadata": {},
   "outputs": [],
   "source": [
    "# Задача 2. Выберете тест и проверьте, есть ли различия между выборкам.\n",
    "# Исследовалось влияние препарата на уровень давления пациентов. Сначала измерялось давление до приема препарата, \n",
    "# потом через 10 минут и через 30 минут. Есть ли статистически значимые различия?\n",
    "# 1е измерение до приема препарата: 150, 160, 165, 145, 155\n",
    "# 2е измерение через 10 минут: 140, 155, 150, 130, 135\n",
    "# 3е измерение через 30 минут: 130, 130, 120, 130, 125"
   ]
  },
  {
   "cell_type": "code",
   "execution_count": 1,
   "id": "67974bd0",
   "metadata": {},
   "outputs": [],
   "source": [
    "import numpy as np\n",
    "import scipy.stats as stats\n",
    "A = np.array([150, 160, 165, 145, 155])\n",
    "B = np.array([140, 155, 150, 130, 135])\n",
    "C = np.array([130, 130, 120, 130, 125])"
   ]
  },
  {
   "cell_type": "code",
   "execution_count": 8,
   "id": "f2bf362f",
   "metadata": {},
   "outputs": [
    {
     "data": {
      "text/plain": [
       "FriedmanchisquareResult(statistic=9.578947368421062, pvalue=0.00831683351100441)"
      ]
     },
     "execution_count": 8,
     "metadata": {},
     "output_type": "execute_result"
    }
   ],
   "source": [
    "stats.friedmanchisquare(A, B, C) "
   ]
  },
  {
   "cell_type": "code",
   "execution_count": null,
   "id": "89c104ef",
   "metadata": {},
   "outputs": [],
   "source": [
    "# Вывод: pvalue достаточно мало, данные различны и несопоставимы."
   ]
  },
  {
   "cell_type": "code",
   "execution_count": null,
   "id": "3b26c26c",
   "metadata": {},
   "outputs": [],
   "source": [
    "# Задача 3. В задаче 2 сравните 1 и 2 е измерения, предполагая, что 3-го измерения через 30 минут не было."
   ]
  },
  {
   "cell_type": "code",
   "execution_count": 14,
   "id": "471b4258",
   "metadata": {},
   "outputs": [],
   "source": [
    "A = np.array([150, 160, 165, 145, 155])\n",
    "B = np.array([140, 155, 150, 130, 135])"
   ]
  },
  {
   "cell_type": "code",
   "execution_count": 15,
   "id": "a60fe472",
   "metadata": {},
   "outputs": [
    {
     "data": {
      "text/plain": [
       "WilcoxonResult(statistic=0.0, pvalue=0.0625)"
      ]
     },
     "execution_count": 15,
     "metadata": {},
     "output_type": "execute_result"
    }
   ],
   "source": [
    "stats.wilcoxon(A, B)"
   ]
  },
  {
   "cell_type": "code",
   "execution_count": null,
   "id": "21442014",
   "metadata": {},
   "outputs": [],
   "source": [
    "# Вывод: pvalue = 0,06, нет статистически значимых различий."
   ]
  },
  {
   "cell_type": "code",
   "execution_count": null,
   "id": "ea055c61",
   "metadata": {},
   "outputs": [],
   "source": [
    "# Задача 4. Выберете тест и проверьте, есть ли различия между двумя  независимыми выборками. \n",
    "# Даны 3 группы учеников плавания. Время на дистанцию 50 м составляют:\n",
    "# Первая группа: 56, 60, 62, 55, 71, 67, 59, 58, 64, 67\n",
    "# Вторая группа : 57, 58, 69, 48, 72, 70, 68, 71, 50, 53\n",
    "# Третья группа: 57, 67, 49, 48, 47, 55, 66, 51, 54"
   ]
  },
  {
   "cell_type": "code",
   "execution_count": 16,
   "id": "d25ca68a",
   "metadata": {},
   "outputs": [],
   "source": [
    "gr1 = ([56, 60, 62, 55, 71, 67, 59, 58, 64, 67])\n",
    "gr2 = ([57, 58, 69, 48, 72, 70, 68, 71, 50, 53])\n",
    "gr3 = ([57, 67, 49, 48, 47, 55, 66, 51, 54])"
   ]
  },
  {
   "cell_type": "code",
   "execution_count": 17,
   "id": "f79e1991",
   "metadata": {},
   "outputs": [
    {
     "data": {
      "text/plain": [
       "KruskalResult(statistic=5.465564058257224, pvalue=0.0650380998590494)"
      ]
     },
     "execution_count": 17,
     "metadata": {},
     "output_type": "execute_result"
    }
   ],
   "source": [
    "stats.kruskal(gr1, gr2, gr3)"
   ]
  },
  {
   "cell_type": "code",
   "execution_count": null,
   "id": "8e5a35c9",
   "metadata": {},
   "outputs": [],
   "source": [
    "# Вывод: pvalue = 0,07, нет статистически значимых различий."
   ]
  }
 ],
 "metadata": {
  "kernelspec": {
   "display_name": "Python 3 (ipykernel)",
   "language": "python",
   "name": "python3"
  },
  "language_info": {
   "codemirror_mode": {
    "name": "ipython",
    "version": 3
   },
   "file_extension": ".py",
   "mimetype": "text/x-python",
   "name": "python",
   "nbconvert_exporter": "python",
   "pygments_lexer": "ipython3",
   "version": "3.9.13"
  }
 },
 "nbformat": 4,
 "nbformat_minor": 5
}
